{
 "cells": [
  {
   "cell_type": "code",
   "execution_count": null,
   "id": "b4f087dd-f33c-4593-bcff-c5e5b93fff6b",
   "metadata": {
    "tags": []
   },
   "outputs": [],
   "source": [
    "!pip install -U tfx\n",
    "!pip install kfp"
   ]
  },
  {
   "cell_type": "code",
   "execution_count": 3,
   "id": "0602e303-0505-4ad9-88c7-6ba071222613",
   "metadata": {},
   "outputs": [
    {
     "name": "stdout",
     "output_type": "stream",
     "text": [
      "env: GOOGLE_CLOUD_PROJECT=alzheimers-331518\n",
      "GCP project ID:alzheimers-331518\n"
     ]
    }
   ],
   "source": [
    "# Read GCP project id from env.\n",
    "shell_output=!gcloud config list --format 'value(core.project)' 2>/dev/null\n",
    "GOOGLE_CLOUD_PROJECT=shell_output[0]\n",
    "%env GOOGLE_CLOUD_PROJECT={GOOGLE_CLOUD_PROJECT}\n",
    "print(\"GCP project ID:\" + GOOGLE_CLOUD_PROJECT)"
   ]
  },
  {
   "cell_type": "code",
   "execution_count": 7,
   "id": "95f71e24-46dd-4da8-972f-e6620882865e",
   "metadata": {},
   "outputs": [
    {
     "name": "stdout",
     "output_type": "stream",
     "text": [
      "gs://alzheimers-331518-kubeflowpipelines-default/tfx-template/data/alzheimers/test.tfrecords\n",
      "gs://alzheimers-331518-kubeflowpipelines-default/tfx-template/data/alzheimers/train.tfrecords\n",
      "gs://alzheimers-331518-kubeflowpipelines-default/tfx-template/data/alzheimers/Alzheimer_s Dataset/\n",
      "gs://alzheimers-331518-kubeflowpipelines-default/tfx-template/data/alzheimers/small/\n"
     ]
    }
   ],
   "source": [
    "!gsutil ls gs://{GOOGLE_CLOUD_PROJECT}-kubeflowpipelines-default/tfx-template/data/alzheimers"
   ]
  },
  {
   "cell_type": "code",
   "execution_count": 61,
   "id": "d3de4173-cfd9-4c45-a65d-b33cfe61458f",
   "metadata": {},
   "outputs": [],
   "source": [
    "%%script false --no-raise-error\n",
    "\n",
    "!pip install kaggle\n",
    "!mkdir -p ~/.kaggle\n",
    "!echo '{\"username\":\"dayagan100\",\"key\":\"6767a772b005bb2f1ac1d7d7cedad2ac\"}' > ~/.kaggle/kaggle.json\n",
    "!chmod 600 ~/.kaggle/kaggle.json"
   ]
  },
  {
   "cell_type": "code",
   "execution_count": 15,
   "id": "7a57ff83-b136-42e7-a82b-bdd64bc68b5b",
   "metadata": {},
   "outputs": [
    {
     "name": "stdout",
     "output_type": "stream",
     "text": [
      "Downloading alzheimers-dataset-4-class-of-images.zip to /home/jupyter/data\n",
      " 38%|██████████████▊                        | 13.0M/34.1M [00:00<00:00, 136MB/s]\n",
      "100%|███████████████████████████████████████| 34.1M/34.1M [00:00<00:00, 209MB/s]\n"
     ]
    }
   ],
   "source": [
    "%%script false --no-raise-error\n",
    "\n",
    "!kaggle datasets download -d tourist55/alzheimers-dataset-4-class-of-images -p ~/data"
   ]
  },
  {
   "cell_type": "code",
   "execution_count": null,
   "id": "1237956f-466f-461b-9d78-6be53c8e45b0",
   "metadata": {
    "tags": []
   },
   "outputs": [],
   "source": [
    "%%script false --no-raise-error\n",
    "\n",
    "!gsutil -m cp -r \"/home/jupyter/data/alzheimers/Alzheimer_s Dataset\" gs://{GOOGLE_CLOUD_PROJECT}-kubeflowpipelines-default/tfx-template/data/alzheimers/"
   ]
  },
  {
   "cell_type": "code",
   "execution_count": 21,
   "id": "99ea9c39-19cc-43b8-a9c8-993e77211621",
   "metadata": {},
   "outputs": [],
   "source": [
    "%%script false --no-raise-error\n",
    "\n",
    "import zipfile \n",
    "zf = '/home/jupyter/data/alzheimers-dataset-4-class-of-images.zip'\n",
    "zip_ref = zipfile.ZipFile(zf, 'r')\n",
    "zip_ref.extractall('/home/jupyter/data/alzheimers')\n",
    "zip_ref.close()"
   ]
  },
  {
   "cell_type": "code",
   "execution_count": 5,
   "id": "745e49c4-a402-4d00-bed0-c9e1d39c3f5c",
   "metadata": {},
   "outputs": [
    {
     "name": "stdout",
     "output_type": "stream",
     "text": [
      "Copying file:///home/jupyter/cmpe297/kubeflow/data/train.small.tfrecords-000 [Content-Type=application/octet-stream]...\n",
      "/ [1/1 files][404.4 KiB/404.4 KiB] 100% Done                                    \n",
      "Operation completed over 1 objects/404.4 KiB.                                    \n",
      "Copying file:///home/jupyter/cmpe297/kubeflow/data/test.small.tfrecords-000 [Content-Type=application/octet-stream]...\n",
      "/ [1/1 files][374.8 KiB/374.8 KiB] 100% Done                                    \n",
      "Operation completed over 1 objects/374.8 KiB.                                    \n"
     ]
    }
   ],
   "source": [
    "%%script false --no-raise-error\n",
    "\n",
    "!gsutil -m cp -r \"/home/jupyter/cmpe297/kubeflow/data/train.small.tfrecords-000\" gs://{GOOGLE_CLOUD_PROJECT}-kubeflowpipelines-default/tfx-template/data/alzheimers/small/train.tfrecords\n",
    "!gsutil -m cp -r \"/home/jupyter/cmpe297/kubeflow/data/test.small.tfrecords-000\" gs://{GOOGLE_CLOUD_PROJECT}-kubeflowpipelines-default/tfx-template/data/alzheimers/small/test.tfrecords"
   ]
  },
  {
   "cell_type": "markdown",
   "id": "d599b8ca-cdd5-4eea-8c83-a49951f1d56f",
   "metadata": {},
   "source": [
    "## Change the below endpoint after creating the Kubeflow pipeline and cluster."
   ]
  },
  {
   "cell_type": "code",
   "execution_count": 11,
   "id": "08f16e5e-9d75-47d7-ac83-760f14bb67be",
   "metadata": {},
   "outputs": [],
   "source": [
    "# This refers to the KFP cluster endpoint\n",
    "ENDPOINT='https://5439f1c852d7ee39-dot-us-west1.pipelines.googleusercontent.com' # Enter your ENDPOINT here.\n",
    "if not ENDPOINT:\n",
    "    from absl import logging\n",
    "    logging.error('Set your ENDPOINT in this cell.')"
   ]
  },
  {
   "cell_type": "code",
   "execution_count": 12,
   "id": "8e74342a-b54a-4f31-a3e9-4347103237a0",
   "metadata": {},
   "outputs": [
    {
     "name": "stdout",
     "output_type": "stream",
     "text": [
      "/home/jupyter/cmpe297/kubeflow\n"
     ]
    }
   ],
   "source": [
    "PIPELINE_PATH=\"~/cmpe297/kubeflow\"\n",
    "\n",
    "%cd {PIPELINE_PATH}"
   ]
  },
  {
   "cell_type": "code",
   "execution_count": 26,
   "id": "c156d05a-2284-429d-a9c8-41af2ac9b0fd",
   "metadata": {
    "tags": []
   },
   "outputs": [
    {
     "name": "stdout",
     "output_type": "stream",
     "text": [
      "CLI\n",
      "Updating pipeline\n",
      "Detected Kubeflow.\n",
      "Use --engine flag if you intend to use a different orchestrator.\n",
      "[Warning] TFX doesn't depend on skaffold anymore and you can delete the auto-genrated build.yaml file. TFX will NOT build a container even if build.yaml file exists. Use --build-image flag to trigger an image build when creating or updating a pipeline.\n",
      "INFO:absl:Excluding no splits because exclude_splits is not set.\n",
      "INFO:absl:Excluding no splits because exclude_splits is not set.\n",
      "INFO:absl:Excluding no splits because exclude_splits is not set.\n",
      "WARNING:absl:`custom_executor_spec` is deprecated. Please customize component directly.\n",
      "WARNING:absl:`custom_executor_spec` is deprecated. Please customize component directly.\n",
      "INFO:absl:Generating ephemeral wheel package for '/home/jupyter/cmpe297/kubeflow/pipeline/utils_native_keras.py' (including modules: ['pipeline', 'utils_native_keras', 'configs']).\n",
      "INFO:absl:User module package has hash fingerprint version 8977756ecca9719b698eee805502a3f583c32e63a5c2ef5ff7f3acb5975f7fd3.\n",
      "INFO:absl:Executing: ['/opt/conda/bin/python3.7', '/tmp/tmpkuljd_a9/_tfx_generated_setup.py', 'bdist_wheel', '--bdist-dir', '/tmp/tmpp8edsxn2', '--dist-dir', '/tmp/tmpc2q1r0tm']\n",
      "running bdist_wheel\n",
      "running build\n",
      "running build_py\n",
      "creating build\n",
      "creating build/lib\n",
      "copying pipeline.py -> build/lib\n",
      "copying utils_native_keras.py -> build/lib\n",
      "copying configs.py -> build/lib\n",
      "installing to /tmp/tmpp8edsxn2\n",
      "running install\n",
      "running install_lib\n",
      "copying build/lib/pipeline.py -> /tmp/tmpp8edsxn2\n",
      "copying build/lib/utils_native_keras.py -> /tmp/tmpp8edsxn2\n",
      "copying build/lib/configs.py -> /tmp/tmpp8edsxn2\n",
      "running install_egg_info\n",
      "running egg_info\n",
      "creating tfx_user_code_Transform.egg-info\n",
      "writing tfx_user_code_Transform.egg-info/PKG-INFO\n",
      "writing dependency_links to tfx_user_code_Transform.egg-info/dependency_links.txt\n",
      "writing top-level names to tfx_user_code_Transform.egg-info/top_level.txt\n",
      "writing manifest file 'tfx_user_code_Transform.egg-info/SOURCES.txt'\n",
      "reading manifest file 'tfx_user_code_Transform.egg-info/SOURCES.txt'\n",
      "writing manifest file 'tfx_user_code_Transform.egg-info/SOURCES.txt'\n",
      "Copying tfx_user_code_Transform.egg-info to /tmp/tmpp8edsxn2/tfx_user_code_Transform-0.0+8977756ecca9719b698eee805502a3f583c32e63a5c2ef5ff7f3acb5975f7fd3-py3.7.egg-info\n",
      "running install_scripts\n",
      "creating /tmp/tmpp8edsxn2/tfx_user_code_Transform-0.0+8977756ecca9719b698eee805502a3f583c32e63a5c2ef5ff7f3acb5975f7fd3.dist-info/WHEEL\n",
      "creating '/tmp/tmpc2q1r0tm/tfx_user_code_Transform-0.0+8977756ecca9719b698eee805502a3f583c32e63a5c2ef5ff7f3acb5975f7fd3-py3-none-any.whl' and adding '/tmp/tmpp8edsxn2' to it\n",
      "adding 'configs.py'\n",
      "adding 'pipeline.py'\n",
      "adding 'utils_native_keras.py'\n",
      "adding 'tfx_user_code_Transform-0.0+8977756ecca9719b698eee805502a3f583c32e63a5c2ef5ff7f3acb5975f7fd3.dist-info/METADATA'\n",
      "adding 'tfx_user_code_Transform-0.0+8977756ecca9719b698eee805502a3f583c32e63a5c2ef5ff7f3acb5975f7fd3.dist-info/WHEEL'\n",
      "adding 'tfx_user_code_Transform-0.0+8977756ecca9719b698eee805502a3f583c32e63a5c2ef5ff7f3acb5975f7fd3.dist-info/top_level.txt'\n",
      "adding 'tfx_user_code_Transform-0.0+8977756ecca9719b698eee805502a3f583c32e63a5c2ef5ff7f3acb5975f7fd3.dist-info/RECORD'\n",
      "removing /tmp/tmpp8edsxn2\n",
      "INFO:absl:Successfully built user code wheel distribution at 'gs://alzheimers-331518-kubeflowpipelines-default/tfx_pipeline_output/kubeflow-pipelines-alzheimers/_wheels/tfx_user_code_Transform-0.0+8977756ecca9719b698eee805502a3f583c32e63a5c2ef5ff7f3acb5975f7fd3-py3-none-any.whl'; target user module is 'utils_native_keras'.\n",
      "INFO:absl:Full user module path is 'utils_native_keras@gs://alzheimers-331518-kubeflowpipelines-default/tfx_pipeline_output/kubeflow-pipelines-alzheimers/_wheels/tfx_user_code_Transform-0.0+8977756ecca9719b698eee805502a3f583c32e63a5c2ef5ff7f3acb5975f7fd3-py3-none-any.whl'\n",
      "INFO:absl:Generating ephemeral wheel package for '/home/jupyter/cmpe297/kubeflow/pipeline/utils_native_keras.py' (including modules: ['pipeline', 'utils_native_keras', 'configs']).\n",
      "INFO:absl:User module package has hash fingerprint version 8977756ecca9719b698eee805502a3f583c32e63a5c2ef5ff7f3acb5975f7fd3.\n",
      "INFO:absl:Executing: ['/opt/conda/bin/python3.7', '/tmp/tmp_dzzl655/_tfx_generated_setup.py', 'bdist_wheel', '--bdist-dir', '/tmp/tmpcv8stt4l', '--dist-dir', '/tmp/tmp7lehqo5l']\n",
      "running bdist_wheel\n",
      "running build\n",
      "running build_py\n",
      "creating build\n",
      "creating build/lib\n",
      "copying pipeline.py -> build/lib\n",
      "copying utils_native_keras.py -> build/lib\n",
      "copying configs.py -> build/lib\n",
      "installing to /tmp/tmpcv8stt4l\n",
      "running install\n",
      "running install_lib\n",
      "copying build/lib/pipeline.py -> /tmp/tmpcv8stt4l\n",
      "copying build/lib/utils_native_keras.py -> /tmp/tmpcv8stt4l\n",
      "copying build/lib/configs.py -> /tmp/tmpcv8stt4l\n",
      "running install_egg_info\n",
      "running egg_info\n",
      "creating tfx_user_code_Trainer.egg-info\n",
      "writing tfx_user_code_Trainer.egg-info/PKG-INFO\n",
      "writing dependency_links to tfx_user_code_Trainer.egg-info/dependency_links.txt\n",
      "writing top-level names to tfx_user_code_Trainer.egg-info/top_level.txt\n",
      "writing manifest file 'tfx_user_code_Trainer.egg-info/SOURCES.txt'\n",
      "reading manifest file 'tfx_user_code_Trainer.egg-info/SOURCES.txt'\n",
      "writing manifest file 'tfx_user_code_Trainer.egg-info/SOURCES.txt'\n",
      "Copying tfx_user_code_Trainer.egg-info to /tmp/tmpcv8stt4l/tfx_user_code_Trainer-0.0+8977756ecca9719b698eee805502a3f583c32e63a5c2ef5ff7f3acb5975f7fd3-py3.7.egg-info\n",
      "running install_scripts\n",
      "creating /tmp/tmpcv8stt4l/tfx_user_code_Trainer-0.0+8977756ecca9719b698eee805502a3f583c32e63a5c2ef5ff7f3acb5975f7fd3.dist-info/WHEEL\n",
      "creating '/tmp/tmp7lehqo5l/tfx_user_code_Trainer-0.0+8977756ecca9719b698eee805502a3f583c32e63a5c2ef5ff7f3acb5975f7fd3-py3-none-any.whl' and adding '/tmp/tmpcv8stt4l' to it\n",
      "adding 'configs.py'\n",
      "adding 'pipeline.py'\n",
      "adding 'utils_native_keras.py'\n",
      "adding 'tfx_user_code_Trainer-0.0+8977756ecca9719b698eee805502a3f583c32e63a5c2ef5ff7f3acb5975f7fd3.dist-info/METADATA'\n",
      "adding 'tfx_user_code_Trainer-0.0+8977756ecca9719b698eee805502a3f583c32e63a5c2ef5ff7f3acb5975f7fd3.dist-info/WHEEL'\n",
      "adding 'tfx_user_code_Trainer-0.0+8977756ecca9719b698eee805502a3f583c32e63a5c2ef5ff7f3acb5975f7fd3.dist-info/top_level.txt'\n",
      "adding 'tfx_user_code_Trainer-0.0+8977756ecca9719b698eee805502a3f583c32e63a5c2ef5ff7f3acb5975f7fd3.dist-info/RECORD'\n",
      "removing /tmp/tmpcv8stt4l\n",
      "INFO:absl:Successfully built user code wheel distribution at 'gs://alzheimers-331518-kubeflowpipelines-default/tfx_pipeline_output/kubeflow-pipelines-alzheimers/_wheels/tfx_user_code_Trainer-0.0+8977756ecca9719b698eee805502a3f583c32e63a5c2ef5ff7f3acb5975f7fd3-py3-none-any.whl'; target user module is 'utils_native_keras'.\n",
      "INFO:absl:Full user module path is 'utils_native_keras@gs://alzheimers-331518-kubeflowpipelines-default/tfx_pipeline_output/kubeflow-pipelines-alzheimers/_wheels/tfx_user_code_Trainer-0.0+8977756ecca9719b698eee805502a3f583c32e63a5c2ef5ff7f3acb5975f7fd3-py3-none-any.whl'\n",
      "INFO:absl:Adding upstream dependencies for component importexamplegen\n",
      "INFO:absl:Adding upstream dependencies for component latest-blessed-model-resolver\n",
      "INFO:absl:Adding upstream dependencies for component statisticsgen\n",
      "INFO:absl:   ->  Component: importexamplegen\n",
      "INFO:absl:Adding upstream dependencies for component schemagen\n",
      "INFO:absl:   ->  Component: statisticsgen\n",
      "INFO:absl:Adding upstream dependencies for component examplevalidator\n",
      "INFO:absl:   ->  Component: schemagen\n",
      "INFO:absl:   ->  Component: statisticsgen\n",
      "INFO:absl:Adding upstream dependencies for component transform\n",
      "INFO:absl:   ->  Component: importexamplegen\n",
      "INFO:absl:   ->  Component: schemagen\n",
      "INFO:absl:Adding upstream dependencies for component trainer\n",
      "INFO:absl:   ->  Component: schemagen\n",
      "INFO:absl:   ->  Component: transform\n",
      "INFO:absl:Adding upstream dependencies for component evaluator\n",
      "INFO:absl:   ->  Component: latest-blessed-model-resolver\n",
      "INFO:absl:   ->  Component: trainer\n",
      "INFO:absl:   ->  Component: transform\n",
      "INFO:absl:Adding upstream dependencies for component pusher\n",
      "INFO:absl:   ->  Component: trainer\n",
      "Please access the pipeline detail page at https://5439f1c852d7ee39-dot-us-west1.pipelines.googleusercontent.com/#/pipelines/details/4674819b-6414-46e2-a5fd-3e8f90ff219e\n",
      "Pipeline \"kubeflow-pipelines-alzheimers\" updated successfully.\n"
     ]
    }
   ],
   "source": [
    "!tfx pipeline update \\\n",
    "    --pipeline-path=kubeflow_runner.py \\\n",
    "    --endpoint={ENDPOINT}"
   ]
  },
  {
   "cell_type": "code",
   "execution_count": null,
   "id": "300fa928-fb78-450f-87b0-b5dd0965972c",
   "metadata": {},
   "outputs": [],
   "source": []
  }
 ],
 "metadata": {
  "environment": {
   "kernel": "python3",
   "name": "tf2-gpu.2-1.m82",
   "type": "gcloud",
   "uri": "gcr.io/deeplearning-platform-release/tf2-gpu.2-1:m82"
  },
  "kernelspec": {
   "display_name": "Python 3",
   "language": "python",
   "name": "python3"
  },
  "language_info": {
   "codemirror_mode": {
    "name": "ipython",
    "version": 3
   },
   "file_extension": ".py",
   "mimetype": "text/x-python",
   "name": "python",
   "nbconvert_exporter": "python",
   "pygments_lexer": "ipython3",
   "version": "3.7.10"
  }
 },
 "nbformat": 4,
 "nbformat_minor": 5
}
